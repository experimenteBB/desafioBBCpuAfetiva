{
 "cells": [
  {
   "cell_type": "code",
   "execution_count": 22,
   "metadata": {},
   "outputs": [
    {
     "name": "stdout",
     "output_type": "stream",
     "text": [
      "Found 45 images belonging to 6 classes.\n",
      "Found 0 images belonging to 0 classes.\n"
     ]
    }
   ],
   "source": [
    "#CONSTRUINDO A REDE NEURAL\n",
    "import tensorflow as tf\n",
    "import keras as K\n",
    "from keras.models import Sequential\n",
    "from keras.layers import Conv2D\n",
    "from keras.layers import MaxPooling2D\n",
    "from keras.layers import Flatten\n",
    "from keras.layers import Dense\n",
    "# Inicializando a Rede Neural Convolucional\n",
    "classifier = Sequential()\n",
    "# Passo 1 - Primeira Camada de Convolução\n",
    "classifier.add(Conv2D(32, (3, 3), input_shape = (48, 48, 3), activation = 'relu'))\n",
    "# Passo 2 - Pooling\n",
    "classifier.add(MaxPooling2D(pool_size = (2, 2)))\n",
    "# Adicionando a Segunda Camada de Convolução\n",
    "classifier.add(Conv2D(24, (3, 3), activation = 'relu'))\n",
    "classifier.add(MaxPooling2D(pool_size = (2, 2)))\n",
    "# Passo 3 - Flattening\n",
    "classifier.add(Flatten())\n",
    "# Passo 4 - Full connection\n",
    "classifier.add(Dense(units = 96, activation = 'relu'))\n",
    "classifier.add(Dense(units = 1, activation = 'sigmoid'))\n",
    "# Compilando a rede\n",
    "classifier.compile(optimizer = 'adam', loss = 'binary_crossentropy', metrics = ['accuracy'])\n",
    "#TREINANDO A REDE NEURAL\n",
    "# Criando os objetos train_datagen e validation_datagen com as regras de pré-processamento das imagens\n",
    "from keras.preprocessing.image import ImageDataGenerator\n",
    "\n",
    "train_datagen = ImageDataGenerator(rescale = 1./255,\n",
    "                                   shear_range = 0.2,\n",
    "                                   zoom_range = 0.2,\n",
    "                                   horizontal_flip = True)\n",
    "\n",
    "validation_datagen = ImageDataGenerator(rescale = 1./255)\n",
    "# Pré-processamento das imagens de treino e validação\n",
    "#As imagens foram divididas na seguinte estrutura de diretórios:\n",
    "#dataset_train (/brava, /feliz, /neutra, /surpresa, /triste)\n",
    "#dataset_test\n",
    "#dataset_validation\n",
    "training_set = train_datagen.flow_from_directory('dataset_train',\n",
    "                                                 target_size = (48, 48),\n",
    "                                                 batch_size = 32,\n",
    "                                                 class_mode = 'binary')\n",
    "\n",
    "validation_set = validation_datagen.flow_from_directory('dataset_validation',\n",
    "                                                        target_size = (48, 48),\n",
    "                                                        batch_size = 32,\n",
    "                                                        class_mode = 'binary')"
   ]
  },
  {
   "cell_type": "code",
   "execution_count": 23,
   "metadata": {},
   "outputs": [
    {
     "name": "stdout",
     "output_type": "stream",
     "text": [
      "Epoch 1/5\n",
      "4000/4000 [==============================] - 801s 200ms/step - loss: -265049203459.0377 - accuracy: 0.1999\n",
      "Epoch 2/5\n",
      "4000/4000 [==============================] - 729s 182ms/step - loss: -4640859580253.7510 - accuracy: 0.2000\n",
      "Epoch 3/5\n",
      "4000/4000 [==============================] - 794s 198ms/step - loss: -21342863361477.3750 - accuracy: 0.2000\n",
      "Epoch 4/5\n",
      "4000/4000 [==============================] - 851s 213ms/step - loss: -60804212053262.9766 - accuracy: 0.2000\n",
      "Epoch 5/5\n",
      "4000/4000 [==============================] - 770s 192ms/step - loss: -136606708783619.2969 - accuracy: 0.2000\n"
     ]
    },
    {
     "data": {
      "text/plain": [
       "<keras.callbacks.callbacks.History at 0x7f3e38262ef0>"
      ]
     },
     "execution_count": 23,
     "metadata": {},
     "output_type": "execute_result"
    }
   ],
   "source": [
    "# Executando o treinamento \n",
    "classifier.fit_generator(training_set,\n",
    "                         steps_per_epoch = 4000,\n",
    "                         epochs = 5,\n",
    "                         validation_data = validation_set,\n",
    "                         validation_steps = 500)"
   ]
  },
  {
   "cell_type": "raw",
   "metadata": {},
   "source": [
    "#Fazendo previsões\n",
    "import numpy as np\n",
    "from keras.preprocessing import image\n",
    "\n",
    "def main(imagem_informada):\n",
    "    test_image = image.load_img(imagem_informada, target_size = (48, 48))\n",
    "    test_image = image.img_to_array(test_image)\n",
    "    test_image = np.expand_dims(test_image, axis = 0)\n",
    "    result = classifier.predict(test_image)\n",
    "    training_set.class_indices\n",
    "    if result[0][0] == 0:\n",
    "        prediction = 'Neutra'\n",
    "    if result[0][0] == 1:\n",
    "        prediction = 'Feliz'\n",
    "    if result[0][0] == 2:\n",
    "        prediction = 'Triste'\n",
    "    if result[0][0] == 3:\n",
    "        prediction = 'Surpreso'\n",
    "    if result[0][0] == 4:\n",
    "        prediction = 'Bravo'    \n",
    "    return prediction\n",
    "\n",
    "#dataset_test/s003-00_img.bmp\n",
    "imagem_input = input('Informe o caminho da imagem:')\n",
    "emocao_detectada = main(imagem_input)\n",
    "emocao_detectada"
   ]
  },
  {
   "cell_type": "code",
   "execution_count": null,
   "metadata": {},
   "outputs": [],
   "source": []
  }
 ],
 "metadata": {
  "kernelspec": {
   "display_name": "Python 3",
   "language": "python",
   "name": "python3"
  },
  "language_info": {
   "codemirror_mode": {
    "name": "ipython",
    "version": 3
   },
   "file_extension": ".py",
   "mimetype": "text/x-python",
   "name": "python",
   "nbconvert_exporter": "python",
   "pygments_lexer": "ipython3",
   "version": "3.6.8"
  }
 },
 "nbformat": 4,
 "nbformat_minor": 2
}
