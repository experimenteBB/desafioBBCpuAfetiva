{
  "nbformat": 4,
  "nbformat_minor": 0,
  "metadata": {
    "colab": {
      "name": "preprocessingDataset.ipynb",
      "provenance": [],
      "collapsed_sections": [],
      "include_colab_link": true
    },
    "kernelspec": {
      "name": "python3",
      "display_name": "Python 3"
    }
  },
  "cells": [
    {
      "cell_type": "markdown",
      "metadata": {
        "id": "view-in-github",
        "colab_type": "text"
      },
      "source": [
        "<a href=\"https://colab.research.google.com/github/washingtonporto/desafioBBCpuAfetiva/blob/master/preprocessingDataset.ipynb\" target=\"_parent\"><img src=\"https://colab.research.google.com/assets/colab-badge.svg\" alt=\"Open In Colab\"/></a>"
      ]
    },
    {
      "cell_type": "code",
      "metadata": {
        "id": "gBpUiAglkfLm",
        "colab_type": "code",
        "outputId": "0f7cb677-7747-41c8-b14e-82996f1a8b2f",
        "colab": {
          "base_uri": "https://localhost:8080/",
          "height": 121
        }
      },
      "source": [
        "from google.colab import drive\n",
        "drive.mount('/content/drive')"
      ],
      "execution_count": 0,
      "outputs": [
        {
          "output_type": "stream",
          "text": [
            "Go to this URL in a browser: https://accounts.google.com/o/oauth2/auth?client_id=947318989803-6bn6qk8qdgf4n4g3pfee6491hc0brc4i.apps.googleusercontent.com&redirect_uri=urn%3Aietf%3Awg%3Aoauth%3A2.0%3Aoob&scope=email%20https%3A%2F%2Fwww.googleapis.com%2Fauth%2Fdocs.test%20https%3A%2F%2Fwww.googleapis.com%2Fauth%2Fdrive%20https%3A%2F%2Fwww.googleapis.com%2Fauth%2Fdrive.photos.readonly%20https%3A%2F%2Fwww.googleapis.com%2Fauth%2Fpeopleapi.readonly&response_type=code\n",
            "\n",
            "Enter your authorization code:\n",
            "··········\n",
            "Mounted at /content/drive\n"
          ],
          "name": "stdout"
        }
      ]
    },
    {
      "cell_type": "code",
      "metadata": {
        "id": "rXvaNeT_kxAO",
        "colab_type": "code",
        "outputId": "783c5627-5f19-4a06-d181-0c65f2b09b4b",
        "colab": {
          "base_uri": "https://localhost:8080/",
          "height": 67
        }
      },
      "source": [
        "from urllib.request import urlretrieve\n",
        "import os\n",
        "\n",
        "def download(url, file):\n",
        "    if not os.path.isfile(file):\n",
        "        print(\"Download file... \" + file + \" ...\")\n",
        "        urlretrieve(url,file)\n",
        "        print(\"File downloaded\")\n",
        "        \n",
        "download('https://github.com/experimenteBB/desafioBBCpuAfetiva/raw/master/dataset/set_train.zip', 'set_train.zip')\n",
        "print(\"All the files are downloaded\")"
      ],
      "execution_count": 0,
      "outputs": [
        {
          "output_type": "stream",
          "text": [
            "Download file... set_train.zip ...\n",
            "File downloaded\n",
            "All the files are downloaded\n"
          ],
          "name": "stdout"
        }
      ]
    },
    {
      "cell_type": "code",
      "metadata": {
        "id": "WM66_d_Ynh9f",
        "colab_type": "code",
        "colab": {}
      },
      "source": [
        "import zipfile\n",
        "\n",
        "zip_ref = zipfile.ZipFile(\"/content/set_train.zip\", 'r')\n",
        "zip_ref.extractall(\"/content/drive/My Drive/desafioBB/dataset/\")\n",
        "zip_ref.close()"
      ],
      "execution_count": 0,
      "outputs": []
    },
    {
      "cell_type": "code",
      "metadata": {
        "id": "5zvTQK3dp85n",
        "colab_type": "code",
        "colab": {}
      },
      "source": [
        "import glob\n",
        "from shutil import copyfile\n",
        "from pathlib import Path\n",
        "\n",
        "pessoas = glob.glob(\"/content/drive/My Drive/desafioBB/dataset/set_train//*\")\n",
        "emotions = {\"0\":\"neutro\", \"1\":\"feliz\", \"2\":\"triste\", \"3\":\"surpreso\", \"4\":\"bravo\"}\n",
        "\n",
        "for emotion in emotions:\n",
        "    path = Path(\"/content/drive/My Drive/desafioBB/dataset/new_set//%s\" %emotions[emotion])\n",
        "    path.mkdir(parents=True, exist_ok=True)\n",
        "\n",
        "for pessoa in pessoas:\n",
        "    temp_pessoa = \"%s\" %pessoa[-4:]\n",
        "    for image in glob.glob(\"%s/bmp//*\" %pessoa):\n",
        "        emotion = image.split('/')[-1].split('_')[0][-1]\n",
        "        copyfile(image, \"/content/drive/My Drive/desafioBB/dataset/new_set//%s//%s\" %(emotions[emotion], image.split('/')[-1]))\n",
        "        "
      ],
      "execution_count": 0,
      "outputs": []
    }
  ]
}