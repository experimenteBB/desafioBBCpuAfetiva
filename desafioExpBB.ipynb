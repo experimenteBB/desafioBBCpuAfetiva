{
 "cells": [
  {
   "cell_type": "code",
   "execution_count": 1,
   "metadata": {},
   "outputs": [
    {
     "name": "stderr",
     "output_type": "stream",
     "text": [
      "C:\\Users\\ac\\Anaconda3\\envs\\py36\\lib\\site-packages\\sklearn\\externals\\joblib\\__init__.py:15: DeprecationWarning: sklearn.externals.joblib is deprecated in 0.21 and will be removed in 0.23. Please import this functionality directly from joblib, which can be installed with: pip install joblib. If this warning is raised when loading pickled models, you may need to re-serialize those models with scikit-learn 0.21+.\n",
      "  warnings.warn(msg, category=DeprecationWarning)\n"
     ]
    }
   ],
   "source": [
    "import glob\n",
    "from shutil import copyfile\n",
    "import cv2\n",
    "import random\n",
    "import numpy as np\n",
    "import codecs, json\n",
    "import math\n",
    "from sklearn.externals import joblib\n",
    "import dlib\n",
    "from sklearn.svm import SVC\n",
    "import os\n",
    "from itertools import starmap\n",
    "import shutil\n",
    "import warnings\n",
    "warnings.filterwarnings(\"ignore\", category=RuntimeWarning) "
   ]
  },
  {
   "cell_type": "code",
   "execution_count": 2,
   "metadata": {},
   "outputs": [],
   "source": [
    "emocoes = [\"neutra\", \"feliz\", \"triste\", \"surpresa\", \"brava\"]\n",
    "\n",
    "# imagens com final \n",
    "# 00_img.bmp = neutra\n",
    "# 01_img.bmp = feliz \n",
    "# etc."
   ]
  },
  {
   "cell_type": "code",
   "execution_count": 3,
   "metadata": {},
   "outputs": [],
   "source": [
    "rootpath = r'data_org'\n",
    "os.mkdir(rootpath, mode=777)\n",
    "os.chdir(rootpath)\n",
    "for sub_folder in emocoes:\n",
    "    os.mkdir(sub_folder)    \n",
    "os.chdir('..')"
   ]
  },
  {
   "cell_type": "code",
   "execution_count": 4,
   "metadata": {},
   "outputs": [],
   "source": [
    "faces = glob.glob(\"set_train//*\")"
   ]
  },
  {
   "cell_type": "code",
   "execution_count": 5,
   "metadata": {
    "scrolled": true
   },
   "outputs": [],
   "source": [
    "for face in faces: \n",
    "    for sessions in glob.glob(\"%s//*\" %face): \n",
    "         for files in glob.glob(\"%s//*\" %sessions): \n",
    "                if files[-10:] == \"00_img.bmp\":\n",
    "                    file_name = files[-15:-3] + \"jpg\"\n",
    "                    copyfile(files, 'data_org/neutra/%s' %file_name)\n",
    "                if files[-10:] == \"01_img.bmp\":\n",
    "                    file_name = files[-15:-3] + \"jpg\"\n",
    "                    copyfile(files, 'data_org/feliz/%s' %file_name)\n",
    "                if files[-10:] == \"02_img.bmp\":\n",
    "                    file_name = files[-15:-3] + \"jpg\"\n",
    "                    copyfile(files, 'data_org/triste/%s' %file_name)\n",
    "                if files[-10:] == \"03_img.bmp\":\n",
    "                    file_name = files[-15:-3] + \"jpg\"\n",
    "                    copyfile(files, 'data_org/surpresa/%s' %file_name)\n",
    "                if files[-10:] == \"04_img.bmp\":\n",
    "                    file_name = files[-15:-3] + \"jpg\"\n",
    "                    copyfile(files, 'data_org/brava/%s' %file_name)                "
   ]
  },
  {
   "cell_type": "code",
   "execution_count": 6,
   "metadata": {},
   "outputs": [],
   "source": [
    "faceDet = cv2.CascadeClassifier(\"haarcascades/haarcascade_frontalface_default.xml\")\n",
    "faceDet2 = cv2.CascadeClassifier(\"haarcascades/haarcascade_frontalface_alt2.xml\")\n",
    "faceDet3 = cv2.CascadeClassifier(\"haarcascades/haarcascade_frontalface_alt.xml\")\n",
    "faceDet4 = cv2.CascadeClassifier(\"haarcascades/haarcascade_frontalface_alt_tree.xml\")\n",
    "\n",
    "def detectar_faces(emocao):\n",
    "\n",
    "    files = glob.glob(\"data_org/%s//*\" %emocao)  \n",
    "    filenumber = 0\n",
    "    \n",
    "    facefeatures = \"\"\n",
    "\n",
    "    for f in files:\n",
    "            frame = cv2.imread(f)\n",
    "            gray = cv2.cvtColor(frame, cv2.COLOR_BGR2GRAY)\n",
    "\n",
    "            face = faceDet.detectMultiScale(gray, scaleFactor=1.1, minNeighbors=10, minSize=(5, 5), flags=cv2.CASCADE_SCALE_IMAGE)\n",
    "            face2 = faceDet2.detectMultiScale(gray, scaleFactor=1.1, minNeighbors=10, minSize=(5, 5), flags=cv2.CASCADE_SCALE_IMAGE)\n",
    "            face3 = faceDet3.detectMultiScale(gray, scaleFactor=1.1, minNeighbors=10, minSize=(5, 5), flags=cv2.CASCADE_SCALE_IMAGE)\n",
    "            face4 = faceDet4.detectMultiScale(gray, scaleFactor=1.1, minNeighbors=10, minSize=(5, 5), flags=cv2.CASCADE_SCALE_IMAGE)\n",
    "\n",
    "            if len(face) == 1:\n",
    "                facefeatures = face\n",
    "            elif len(face2) == 1:\n",
    "                facefeatures == face2\n",
    "            elif len(face3) == 1:\n",
    "                facefeatures = face3\n",
    "            elif len(face4) == 1:\n",
    "                facefeatures = face4\n",
    "            else:\n",
    "                facefeatures = \"\"\n",
    "\n",
    "\n",
    "            for (x, y, w, h) in facefeatures: \n",
    "                print (\"face encontrada no arquivo: %s\" %f)\n",
    "                gray = gray[y:y+h, x:x+w]\n",
    "                out = cv2.resize(gray, (350, 350))\n",
    "                cv2.imwrite(\"data_org//%s//%s.jpg\" %(emocao, filenumber), out) \n",
    "\n",
    "            filenumber += 1 "
   ]
  },
  {
   "cell_type": "code",
   "execution_count": 7,
   "metadata": {
    "scrolled": true
   },
   "outputs": [
    {
     "name": "stderr",
     "output_type": "stream",
     "text": [
      "C:\\Users\\ac\\Anaconda3\\envs\\py36\\lib\\site-packages\\ipykernel_launcher.py:25: FutureWarning: elementwise comparison failed; returning scalar instead, but in the future will perform elementwise comparison\n"
     ]
    },
    {
     "name": "stdout",
     "output_type": "stream",
     "text": [
      "face encontrada no arquivo: data_org/neutra\\s002-00_img.jpg\n",
      "face encontrada no arquivo: data_org/neutra\\s003-00_img.jpg\n",
      "face encontrada no arquivo: data_org/neutra\\s004-00_img.jpg\n",
      "face encontrada no arquivo: data_org/neutra\\s005-00_img.jpg\n",
      "face encontrada no arquivo: data_org/neutra\\s006-00_img.jpg\n",
      "face encontrada no arquivo: data_org/neutra\\s007-00_img.jpg\n",
      "face encontrada no arquivo: data_org/neutra\\s008-00_img.jpg\n",
      "face encontrada no arquivo: data_org/neutra\\s009-00_img.jpg\n",
      "face encontrada no arquivo: data_org/neutra\\s010-00_img.jpg\n",
      "face encontrada no arquivo: data_org/neutra\\s011-00_img.jpg\n",
      "face encontrada no arquivo: data_org/neutra\\s012-00_img.jpg\n",
      "face encontrada no arquivo: data_org/neutra\\s013-00_img.jpg\n",
      "face encontrada no arquivo: data_org/neutra\\s014-00_img.jpg\n",
      "face encontrada no arquivo: data_org/neutra\\s015-00_img.jpg\n",
      "face encontrada no arquivo: data_org/neutra\\s016-00_img.jpg\n",
      "face encontrada no arquivo: data_org/neutra\\s017-00_img.jpg\n",
      "face encontrada no arquivo: data_org/neutra\\s018-00_img.jpg\n",
      "face encontrada no arquivo: data_org/neutra\\s019-00_img.jpg\n",
      "face encontrada no arquivo: data_org/neutra\\s021-00_img.jpg\n",
      "face encontrada no arquivo: data_org/neutra\\s023-00_img.jpg\n",
      "face encontrada no arquivo: data_org/neutra\\s024-00_img.jpg\n",
      "face encontrada no arquivo: data_org/neutra\\s025-00_img.jpg\n",
      "face encontrada no arquivo: data_org/neutra\\s026-00_img.jpg\n",
      "face encontrada no arquivo: data_org/neutra\\s027-00_img.jpg\n",
      "face encontrada no arquivo: data_org/neutra\\s028-00_img.jpg\n",
      "face encontrada no arquivo: data_org/feliz\\s003-01_img.jpg\n",
      "face encontrada no arquivo: data_org/feliz\\s004-01_img.jpg\n",
      "face encontrada no arquivo: data_org/feliz\\s005-01_img.jpg\n",
      "face encontrada no arquivo: data_org/feliz\\s006-01_img.jpg\n",
      "face encontrada no arquivo: data_org/feliz\\s007-01_img.jpg\n",
      "face encontrada no arquivo: data_org/feliz\\s008-01_img.jpg\n",
      "face encontrada no arquivo: data_org/feliz\\s009-01_img.jpg\n",
      "face encontrada no arquivo: data_org/feliz\\s010-01_img.jpg\n",
      "face encontrada no arquivo: data_org/feliz\\s011-01_img.jpg\n",
      "face encontrada no arquivo: data_org/feliz\\s012-01_img.jpg\n",
      "face encontrada no arquivo: data_org/feliz\\s013-01_img.jpg\n",
      "face encontrada no arquivo: data_org/feliz\\s014-01_img.jpg\n",
      "face encontrada no arquivo: data_org/feliz\\s015-01_img.jpg\n",
      "face encontrada no arquivo: data_org/feliz\\s016-01_img.jpg\n",
      "face encontrada no arquivo: data_org/feliz\\s017-01_img.jpg\n",
      "face encontrada no arquivo: data_org/feliz\\s018-01_img.jpg\n",
      "face encontrada no arquivo: data_org/feliz\\s019-01_img.jpg\n",
      "face encontrada no arquivo: data_org/feliz\\s021-01_img.jpg\n",
      "face encontrada no arquivo: data_org/feliz\\s023-01_img.jpg\n",
      "face encontrada no arquivo: data_org/feliz\\s024-01_img.jpg\n",
      "face encontrada no arquivo: data_org/feliz\\s025-01_img.jpg\n",
      "face encontrada no arquivo: data_org/feliz\\s026-01_img.jpg\n",
      "face encontrada no arquivo: data_org/feliz\\s027-01_img.jpg\n",
      "face encontrada no arquivo: data_org/feliz\\s028-01_img.jpg\n",
      "face encontrada no arquivo: data_org/triste\\s001-02_img.jpg\n",
      "face encontrada no arquivo: data_org/triste\\s002-02_img.jpg\n",
      "face encontrada no arquivo: data_org/triste\\s003-02_img.jpg\n",
      "face encontrada no arquivo: data_org/triste\\s004-02_img.jpg\n",
      "face encontrada no arquivo: data_org/triste\\s005-02_img.jpg\n",
      "face encontrada no arquivo: data_org/triste\\s006-02_img.jpg\n",
      "face encontrada no arquivo: data_org/triste\\s007-02_img.jpg\n",
      "face encontrada no arquivo: data_org/triste\\s008-02_img.jpg\n",
      "face encontrada no arquivo: data_org/triste\\s009-02_img.jpg\n",
      "face encontrada no arquivo: data_org/triste\\s010-02_img.jpg\n",
      "face encontrada no arquivo: data_org/triste\\s011-02_img.jpg\n",
      "face encontrada no arquivo: data_org/triste\\s012-02_img.jpg\n",
      "face encontrada no arquivo: data_org/triste\\s013-02_img.jpg\n",
      "face encontrada no arquivo: data_org/triste\\s014-02_img.jpg\n",
      "face encontrada no arquivo: data_org/triste\\s015-02_img.jpg\n",
      "face encontrada no arquivo: data_org/triste\\s016-02_img.jpg\n",
      "face encontrada no arquivo: data_org/triste\\s017-02_img.jpg\n",
      "face encontrada no arquivo: data_org/triste\\s018-02_img.jpg\n",
      "face encontrada no arquivo: data_org/triste\\s019-02_img.jpg\n",
      "face encontrada no arquivo: data_org/triste\\s021-02_img.jpg\n",
      "face encontrada no arquivo: data_org/triste\\s023-02_img.jpg\n",
      "face encontrada no arquivo: data_org/triste\\s024-02_img.jpg\n",
      "face encontrada no arquivo: data_org/triste\\s025-02_img.jpg\n",
      "face encontrada no arquivo: data_org/triste\\s026-02_img.jpg\n",
      "face encontrada no arquivo: data_org/triste\\s027-02_img.jpg\n",
      "face encontrada no arquivo: data_org/triste\\s028-02_img.jpg\n",
      "face encontrada no arquivo: data_org/surpresa\\s001-03_img.jpg\n",
      "face encontrada no arquivo: data_org/surpresa\\s002-03_img.jpg\n",
      "face encontrada no arquivo: data_org/surpresa\\s003-03_img.jpg\n",
      "face encontrada no arquivo: data_org/surpresa\\s004-03_img.jpg\n",
      "face encontrada no arquivo: data_org/surpresa\\s005-03_img.jpg\n",
      "face encontrada no arquivo: data_org/surpresa\\s006-03_img.jpg\n",
      "face encontrada no arquivo: data_org/surpresa\\s007-03_img.jpg\n",
      "face encontrada no arquivo: data_org/surpresa\\s008-03_img.jpg\n",
      "face encontrada no arquivo: data_org/surpresa\\s009-03_img.jpg\n",
      "face encontrada no arquivo: data_org/surpresa\\s010-03_img.jpg\n",
      "face encontrada no arquivo: data_org/surpresa\\s011-03_img.jpg\n",
      "face encontrada no arquivo: data_org/surpresa\\s012-03_img.jpg\n",
      "face encontrada no arquivo: data_org/surpresa\\s013-03_img.jpg\n",
      "face encontrada no arquivo: data_org/surpresa\\s014-03_img.jpg\n",
      "face encontrada no arquivo: data_org/surpresa\\s015-03_img.jpg\n",
      "face encontrada no arquivo: data_org/surpresa\\s016-03_img.jpg\n",
      "face encontrada no arquivo: data_org/surpresa\\s017-03_img.jpg\n",
      "face encontrada no arquivo: data_org/surpresa\\s018-03_img.jpg\n",
      "face encontrada no arquivo: data_org/surpresa\\s019-03_img.jpg\n",
      "face encontrada no arquivo: data_org/surpresa\\s021-03_img.jpg\n",
      "face encontrada no arquivo: data_org/surpresa\\s023-03_img.jpg\n",
      "face encontrada no arquivo: data_org/surpresa\\s024-03_img.jpg\n",
      "face encontrada no arquivo: data_org/surpresa\\s025-03_img.jpg\n",
      "face encontrada no arquivo: data_org/surpresa\\s026-03_img.jpg\n",
      "face encontrada no arquivo: data_org/surpresa\\s027-03_img.jpg\n",
      "face encontrada no arquivo: data_org/surpresa\\s028-03_img.jpg\n",
      "face encontrada no arquivo: data_org/brava\\s001-04_img.jpg\n",
      "face encontrada no arquivo: data_org/brava\\s002-04_img.jpg\n",
      "face encontrada no arquivo: data_org/brava\\s003-04_img.jpg\n",
      "face encontrada no arquivo: data_org/brava\\s004-04_img.jpg\n",
      "face encontrada no arquivo: data_org/brava\\s005-04_img.jpg\n",
      "face encontrada no arquivo: data_org/brava\\s006-04_img.jpg\n",
      "face encontrada no arquivo: data_org/brava\\s007-04_img.jpg\n",
      "face encontrada no arquivo: data_org/brava\\s008-04_img.jpg\n",
      "face encontrada no arquivo: data_org/brava\\s009-04_img.jpg\n",
      "face encontrada no arquivo: data_org/brava\\s010-04_img.jpg\n",
      "face encontrada no arquivo: data_org/brava\\s011-04_img.jpg\n",
      "face encontrada no arquivo: data_org/brava\\s012-04_img.jpg\n",
      "face encontrada no arquivo: data_org/brava\\s013-04_img.jpg\n",
      "face encontrada no arquivo: data_org/brava\\s014-04_img.jpg\n",
      "face encontrada no arquivo: data_org/brava\\s015-04_img.jpg\n",
      "face encontrada no arquivo: data_org/brava\\s016-04_img.jpg\n",
      "face encontrada no arquivo: data_org/brava\\s017-04_img.jpg\n",
      "face encontrada no arquivo: data_org/brava\\s018-04_img.jpg\n",
      "face encontrada no arquivo: data_org/brava\\s019-04_img.jpg\n",
      "face encontrada no arquivo: data_org/brava\\s021-04_img.jpg\n",
      "face encontrada no arquivo: data_org/brava\\s023-04_img.jpg\n",
      "face encontrada no arquivo: data_org/brava\\s024-04_img.jpg\n",
      "face encontrada no arquivo: data_org/brava\\s025-04_img.jpg\n",
      "face encontrada no arquivo: data_org/brava\\s026-04_img.jpg\n",
      "face encontrada no arquivo: data_org/brava\\s027-04_img.jpg\n",
      "face encontrada no arquivo: data_org/brava\\s028-04_img.jpg\n"
     ]
    }
   ],
   "source": [
    "for emocao in emocoes:\n",
    "    detectar_faces(emocao)"
   ]
  },
  {
   "cell_type": "code",
   "execution_count": 8,
   "metadata": {},
   "outputs": [],
   "source": [
    "clahe = cv2.createCLAHE(clipLimit=2.0,tileGridSize=(8,8))\n",
    "face_det = dlib.get_frontal_face_detector()\n",
    "land_pred = dlib.shape_predictor(\"shape_predictor_68_face_landmarks.dat\")"
   ]
  },
  {
   "cell_type": "code",
   "execution_count": 9,
   "metadata": {},
   "outputs": [],
   "source": [
    "svm_clf2 = SVC(kernel='linear', probability=True, tol=1e-3)"
   ]
  },
  {
   "cell_type": "code",
   "execution_count": 10,
   "metadata": {},
   "outputs": [],
   "source": [
    "def get_images(emocao):\n",
    "    m_path = 'data_org//'\n",
    "    i_path = glob.glob(m_path+emocao+'//*')\n",
    "    random.shuffle(i_path) \n",
    "    train_paths = i_path[:int(len(i_path)*0.90)] \n",
    "    predict_paths = i_path[-int(len(i_path)*0.10):]\n",
    "    return train_paths, predict_paths\n",
    "\n",
    "def get_landmarks(image_p):\n",
    "    face_detections = face_det(image_p,1)\n",
    "    for k,d in enumerate(face_detections):\n",
    "        shape = land_pred(image_p,d)\n",
    "        x_cords = []\n",
    "        y_cords = []\n",
    "        for i in range(1,68):\n",
    "            x_cords.append(float(shape.part(i).x))\n",
    "            y_cords.append(float(shape.part(i).y))\n",
    "\n",
    "        xmean = np.mean(x_cords)\n",
    "        ymean = np.mean(y_cords)\n",
    "        x_central = [(x-xmean) for x in x_cords] \n",
    "        y_central = [(y-ymean) for y in y_cords]\n",
    "\n",
    "        if x_cords[26] == x_cords[29]: \n",
    "            anglenose = 0\n",
    "        else:\n",
    "            anglenose_rad = int(math.atan((y_central[26] - y_central[29]) / (x_central[26] - x_central[29])))\n",
    "            anglenose = int(math.degrees(anglenose_rad))\n",
    "\n",
    "        if anglenose < 0:\n",
    "            anglenose += 90 \n",
    "\n",
    "        else:\n",
    "            anglenose -= 90 \n",
    "\n",
    "        landmarks_v = []\n",
    "        for x,y,w,z in zip(x_central,y_central,x_cords,y_cords):\n",
    "            landmarks_v.append(x) \n",
    "            landmarks_v.append(y) \n",
    "\n",
    "            np_mean_coor = np.asarray((ymean,xmean))\n",
    "            np_coor = np.asarray((z,w))\n",
    "            euclid_d = np.linalg.norm(np_coor-np_mean_coor)\n",
    "            landmarks_v.append(euclid_d)\n",
    "\n",
    "            angle_rad = (math.atan((z - ymean) / (w - xmean)))\n",
    "            angle_degree = math.degrees(angle_rad)\n",
    "            angle_req = int(angle_degree - anglenose)\n",
    "            landmarks_v.append(angle_req)\n",
    "\n",
    "    if len(face_detections)<1:\n",
    "        landmarks_v=\"error\"\n",
    "\n",
    "    return  landmarks_v\n",
    "\n",
    "def org_data():\n",
    "    train_data = []\n",
    "    train_labels = []\n",
    "    pred_data = []\n",
    "    pred_labels = []\n",
    "\n",
    "    for emo in emocoes:\n",
    "        train_p, pred_p = get_images(emo)\n",
    "        for im in train_p:\n",
    "            img = cv2.imread(im)\n",
    "            img_gray = cv2.cvtColor(img,cv2.COLOR_BGR2GRAY)\n",
    "            clahe_gray = clahe.apply(img_gray)\n",
    "            landmarks_vec = get_landmarks(clahe_gray)\n",
    "            if landmarks_vec == \"error\":\n",
    "                pass\n",
    "            else:\n",
    "                train_data.append(landmarks_vec)\n",
    "                train_labels.append(emocoes.index(emo))\n",
    "\n",
    "        for im in pred_p:\n",
    "            img = cv2.imread(im)\n",
    "            img_gray = cv2.cvtColor(img,cv2.COLOR_BGR2GRAY)\n",
    "            clahe_gray = clahe.apply(img_gray)\n",
    "            landmarks_vec = get_landmarks(clahe_gray)\n",
    "            if landmarks_vec == \"error\":\n",
    "                pass\n",
    "            else:\n",
    "                pred_data.append(landmarks_vec)\n",
    "                pred_labels.append(emocoes.index(emo))\n",
    "\n",
    "    return train_data,train_labels,pred_data,pred_labels\n",
    "\n",
    "accuracy = []"
   ]
  },
  {
   "cell_type": "code",
   "execution_count": 11,
   "metadata": {
    "scrolled": true
   },
   "outputs": [
    {
     "name": "stdout",
     "output_type": "stream",
     "text": [
      "Treino 1 de 10\n",
      "Acurácia 0.600000\n",
      "--------------------\n",
      "Treino 2 de 10\n",
      "Acurácia 0.640000\n",
      "--------------------\n",
      "Treino 3 de 10\n",
      "Acurácia 0.560000\n",
      "--------------------\n",
      "Treino 4 de 10\n",
      "Acurácia 0.760000\n",
      "--------------------\n",
      "Treino 5 de 10\n",
      "Acurácia 0.520000\n",
      "--------------------\n",
      "Treino 6 de 10\n",
      "Acurácia 0.680000\n",
      "--------------------\n",
      "Treino 7 de 10\n",
      "Acurácia 0.560000\n",
      "--------------------\n",
      "Treino 8 de 10\n",
      "Acurácia 0.560000\n",
      "--------------------\n",
      "Treino 9 de 10\n",
      "Acurácia 0.520000\n",
      "--------------------\n",
      "Treino 10 de 10\n",
      "Acurácia 0.600000\n",
      "--------------------\n"
     ]
    }
   ],
   "source": [
    "for i in range(1,11):\n",
    "    print(\"Treino %d de 10\" %i)\n",
    "    train_data, train_labels, pred_data, pred_labels = org_data()\n",
    "    np_train_data = np.array(train_data)\n",
    "    np_train_labels = np.array(train_labels)\n",
    "    svm_clf2.fit(np_train_data,np_train_labels)\n",
    "    np_test_data = np.array(pred_data)\n",
    "    final_pred = svm_clf2.score(np_test_data,pred_labels)\n",
    "    print(\"Acurácia %f\" %final_pred)\n",
    "    accuracy.append(final_pred)\n",
    "    print(20 * \"-\")"
   ]
  },
  {
   "cell_type": "code",
   "execution_count": 12,
   "metadata": {},
   "outputs": [
    {
     "name": "stdout",
     "output_type": "stream",
     "text": [
      "\n",
      "Acurácia Média: 0.600000 \n"
     ]
    }
   ],
   "source": [
    "print(\"\\nAcurácia Média: %f \" %np.mean(accuracy))"
   ]
  },
  {
   "cell_type": "code",
   "execution_count": 13,
   "metadata": {},
   "outputs": [
    {
     "data": {
      "text/plain": [
       "['aps_modelo.pkl']"
      ]
     },
     "execution_count": 13,
     "metadata": {},
     "output_type": "execute_result"
    }
   ],
   "source": [
    "joblib.dump(svm_clf2,'aps_modelo.pkl')"
   ]
  }
 ],
 "metadata": {
  "kernelspec": {
   "display_name": "Python 3",
   "language": "python",
   "name": "python3"
  },
  "language_info": {
   "codemirror_mode": {
    "name": "ipython",
    "version": 3
   },
   "file_extension": ".py",
   "mimetype": "text/x-python",
   "name": "python",
   "nbconvert_exporter": "python",
   "pygments_lexer": "ipython3",
   "version": "3.6.9"
  }
 },
 "nbformat": 4,
 "nbformat_minor": 2
}
