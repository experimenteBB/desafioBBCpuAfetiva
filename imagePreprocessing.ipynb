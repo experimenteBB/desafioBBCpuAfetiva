{
  "nbformat": 4,
  "nbformat_minor": 0,
  "metadata": {
    "colab": {
      "name": "imagePreprocessing.ipynb",
      "provenance": [],
      "collapsed_sections": [],
      "include_colab_link": true
    },
    "kernelspec": {
      "name": "python3",
      "display_name": "Python 3"
    }
  },
  "cells": [
    {
      "cell_type": "markdown",
      "metadata": {
        "id": "view-in-github",
        "colab_type": "text"
      },
      "source": [
        "<a href=\"https://colab.research.google.com/github/washingtonporto/desafioBBCpuAfetiva/blob/master/imagePreprocessing.ipynb\" target=\"_parent\"><img src=\"https://colab.research.google.com/assets/colab-badge.svg\" alt=\"Open In Colab\"/></a>"
      ]
    },
    {
      "cell_type": "code",
      "metadata": {
        "id": "wxEUVKDRkUUI",
        "colab_type": "code",
        "outputId": "ad824c56-ff06-4c2e-cdc0-d36697f1d220",
        "colab": {
          "base_uri": "https://localhost:8080/",
          "height": 121
        }
      },
      "source": [
        "from google.colab import drive\n",
        "drive.mount('/content/drive')"
      ],
      "execution_count": 0,
      "outputs": [
        {
          "output_type": "stream",
          "text": [
            "Go to this URL in a browser: https://accounts.google.com/o/oauth2/auth?client_id=947318989803-6bn6qk8qdgf4n4g3pfee6491hc0brc4i.apps.googleusercontent.com&redirect_uri=urn%3Aietf%3Awg%3Aoauth%3A2.0%3Aoob&scope=email%20https%3A%2F%2Fwww.googleapis.com%2Fauth%2Fdocs.test%20https%3A%2F%2Fwww.googleapis.com%2Fauth%2Fdrive%20https%3A%2F%2Fwww.googleapis.com%2Fauth%2Fdrive.photos.readonly%20https%3A%2F%2Fwww.googleapis.com%2Fauth%2Fpeopleapi.readonly&response_type=code\n",
            "\n",
            "Enter your authorization code:\n",
            "··········\n",
            "Mounted at /content/drive\n"
          ],
          "name": "stdout"
        }
      ]
    },
    {
      "cell_type": "code",
      "metadata": {
        "id": "5BbQvy-Tk4h_",
        "colab_type": "code",
        "outputId": "8381b4e1-5e48-4bfb-f69c-76c6168814bf",
        "colab": {
          "base_uri": "https://localhost:8080/",
          "height": 101
        }
      },
      "source": [
        "from urllib.request import urlretrieve\n",
        "import os\n",
        "\n",
        "def download(url, file):\n",
        "    if not os.path.isfile(file):\n",
        "        print(\"Download file... \" + file + \" ...\")\n",
        "        urlretrieve(url,file)\n",
        "        print(\"File downloaded\")\n",
        "        \n",
        "download('https://github.com/cmusatyalab/openface/raw/master/openface/align_dlib.py', 'align_dlib.py') \n",
        "download('https://github.com/JeffTrain/selfie/raw/master/shape_predictor_68_face_landmarks.dat', 'shape_predictor_68_face_landmarks.dat')\n",
        "print(\"All the files are downloaded\")"
      ],
      "execution_count": 0,
      "outputs": [
        {
          "output_type": "stream",
          "text": [
            "Download file... align_dlib.py ...\n",
            "File downloaded\n",
            "Download file... shape_predictor_68_face_landmarks.dat ...\n",
            "File downloaded\n",
            "All the files are downloaded\n"
          ],
          "name": "stdout"
        }
      ]
    },
    {
      "cell_type": "code",
      "metadata": {
        "id": "CzdCBaEzl43w",
        "colab_type": "code",
        "colab": {}
      },
      "source": [
        "import cv2\n",
        "import glob\n",
        "import align_dlib as opf\n",
        "from pathlib import Path\n",
        "\n",
        "emotionSet = glob.glob(\"/content/drive/My Drive/desafioBB/dataset/new_set//*\")\n",
        "emotions = {\"0\":\"neutro\", \"1\":\"feliz\", \"2\":\"triste\", \"3\":\"surpreso\", \"4\":\"bravo\"}\n",
        "align = opf.AlignDlib('/content/shape_predictor_68_face_landmarks.dat')\n",
        "\n",
        "for emotion in emotions:\n",
        "  path = Path(\"/content/drive/My Drive/desafioBB/dataset/finalDataset//%s\" %emotions[emotion])\n",
        "  path.mkdir(parents=True, exist_ok=True)\n",
        "\n",
        "for emotion in emotionSet:\n",
        "  for image in glob.glob(\"%s//*\" %emotion):\n",
        "    img = cv2.imread(image)\n",
        "    bb = align.getLargestFaceBoundingBox(img)\n",
        "    alignedFace = align.align(256, img, bb, landmarkIndices=opf.AlignDlib.OUTER_EYES_AND_NOSE)\n",
        "    cv2.imwrite(\"/content/drive/My Drive/desafioBB/dataset/finalDataset//%s//%s.jpg\" % (emotion.split('/')[-1], image.split('/')[-1]), alignedFace)\n",
        "\n"
      ],
      "execution_count": 0,
      "outputs": []
    }
  ]
}